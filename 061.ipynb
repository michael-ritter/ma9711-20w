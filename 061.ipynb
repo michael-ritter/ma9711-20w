{
 "cells": [
  {
   "cell_type": "code",
   "execution_count": 1,
   "metadata": {
    "slideshow": {
     "slide_type": "skip"
    }
   },
   "outputs": [
    {
     "name": "stdout",
     "output_type": "stream",
     "text": [
      "Python 3.8.6\n"
     ]
    }
   ],
   "source": [
    "# Python Version\n",
    "import sys\n",
    "!{sys.executable} --version"
   ]
  },
  {
   "cell_type": "code",
   "execution_count": 2,
   "metadata": {
    "slideshow": {
     "slide_type": "skip"
    }
   },
   "outputs": [
    {
     "name": "stdout",
     "output_type": "stream",
     "text": [
      "Requirement already satisfied: numpy in /Users/ritter/.pyenv/versions/3.8.6/lib/python3.8/site-packages (1.18.5)\n",
      "\u001b[33mWARNING: You are using pip version 20.2.1; however, version 20.3.1 is available.\n",
      "You should consider upgrading via the '/Users/ritter/.pyenv/versions/3.8.6/bin/python -m pip install --upgrade pip' command.\u001b[0m\n",
      "Requirement already satisfied: matplotlib in /Users/ritter/.pyenv/versions/3.8.6/lib/python3.8/site-packages (3.3.3)\n",
      "Requirement already satisfied: python-dateutil>=2.1 in /Users/ritter/.pyenv/versions/3.8.6/lib/python3.8/site-packages (from matplotlib) (2.8.1)\n",
      "Requirement already satisfied: cycler>=0.10 in /Users/ritter/.pyenv/versions/3.8.6/lib/python3.8/site-packages (from matplotlib) (0.10.0)\n",
      "Requirement already satisfied: pillow>=6.2.0 in /Users/ritter/.pyenv/versions/3.8.6/lib/python3.8/site-packages (from matplotlib) (8.0.1)\n",
      "Requirement already satisfied: pyparsing!=2.0.4,!=2.1.2,!=2.1.6,>=2.0.3 in /Users/ritter/.pyenv/versions/3.8.6/lib/python3.8/site-packages (from matplotlib) (2.4.7)\n",
      "Requirement already satisfied: numpy>=1.15 in /Users/ritter/.pyenv/versions/3.8.6/lib/python3.8/site-packages (from matplotlib) (1.18.5)\n",
      "Requirement already satisfied: kiwisolver>=1.0.1 in /Users/ritter/.pyenv/versions/3.8.6/lib/python3.8/site-packages (from matplotlib) (1.3.1)\n",
      "Requirement already satisfied: six>=1.5 in /Users/ritter/.pyenv/versions/3.8.6/lib/python3.8/site-packages (from python-dateutil>=2.1->matplotlib) (1.15.0)\n",
      "\u001b[33mWARNING: You are using pip version 20.2.1; however, version 20.3.1 is available.\n",
      "You should consider upgrading via the '/Users/ritter/.pyenv/versions/3.8.6/bin/python -m pip install --upgrade pip' command.\u001b[0m\n"
     ]
    }
   ],
   "source": [
    "# Install a pip package in the current Jupyter kernel\n",
    "import sys\n",
    "!{sys.executable} -m pip install numpy\n",
    "!{sys.executable} -m pip install matplotlib"
   ]
  },
  {
   "cell_type": "markdown",
   "metadata": {
    "slideshow": {
     "slide_type": "slide"
    }
   },
   "source": [
    "# Linear and Quadratic Models"
   ]
  },
  {
   "cell_type": "markdown",
   "metadata": {
    "slideshow": {
     "slide_type": "slide"
    }
   },
   "source": [
    "## Per-Capita Beer Consumption in Germany (in l)"
   ]
  },
  {
   "cell_type": "markdown",
   "metadata": {
    "slideshow": {
     "slide_type": "subslide"
    }
   },
   "source": [
    "### Data\n",
    "\n",
    "| **Year** | **t** | **consumption (l)** |\n",
    "|----------|-------|-----------------|\n",
    "| 1950 | 0  | 35.6 |\n",
    "| 1960 | 10 | 94.7 |\n",
    "| 1970 | 20 | 141.1 |  \n",
    "| 1980 | 30 | 145.9 |  \n",
    "| 1990 | 40 | 142.7 |  \n",
    "| 2000 | 50 | 125.6 |  \n",
    "| 2005 | 55 | 115.3 |  \n",
    "| 2010 | 60 | 107.4 |  \n",
    "| 2011 | 61 | 109.3 |  \n",
    "| 2012 | 62 | 107.6 |  \n",
    "| 2013 | 63 | 106.6 |  \n",
    "| 2014 | 64 | 106.9 |  \n",
    "| 2015 | 65 | 105.9 |  \n"
   ]
  },
  {
   "cell_type": "markdown",
   "metadata": {
    "slideshow": {
     "slide_type": "subslide"
    }
   },
   "source": [
    "### Scatter Plot"
   ]
  },
  {
   "cell_type": "code",
   "execution_count": 3,
   "metadata": {
    "slideshow": {
     "slide_type": "skip"
    }
   },
   "outputs": [],
   "source": [
    "import numpy as np\n",
    "import matplotlib as mpl\n",
    "import matplotlib.pyplot as plt"
   ]
  },
  {
   "cell_type": "code",
   "execution_count": 4,
   "metadata": {
    "slideshow": {
     "slide_type": "fragment"
    }
   },
   "outputs": [],
   "source": [
    "beer_data = np.array([ (0,35.6),\n",
    "                      (10,94.7),\n",
    "                      (20,141.1),\n",
    "                      (30, 145.9),\n",
    "                      (40,142.7),\n",
    "                      (50,125.6),\n",
    "                      (55,115.3),\n",
    "                      (60,107.4),\n",
    "                      (61,109.3),\n",
    "                      (62,107.6),\n",
    "                      (63,106.6),\n",
    "                      (64,106.9),\n",
    "                      (65,105.9)])"
   ]
  },
  {
   "cell_type": "code",
   "execution_count": 5,
   "metadata": {
    "slideshow": {
     "slide_type": "fragment"
    }
   },
   "outputs": [
    {
     "data": {
      "image/png": "[encoded data removed]",
      "text/plain": [
       "<Figure size 432x288 with 1 Axes>"
      ]
     },
     "metadata": {
      "needs_background": "light"
     },
     "output_type": "display_data"
    }
   ],
   "source": [
    "plt.scatter(beer_data[:,0], beer_data[:,1]);"
   ]
  },
  {
   "cell_type": "markdown",
   "metadata": {
    "slideshow": {
     "slide_type": "subslide"
    }
   },
   "source": [
    "### Linear Model"
   ]
  },
  {
   "cell_type": "markdown",
   "metadata": {
    "slideshow": {
     "slide_type": "subslide"
    }
   },
   "source": [
    "#### Model\n",
    "\n",
    "$consumption(t) = \\alpha \\cdot t + \\beta$"
   ]
  },
  {
   "cell_type": "markdown",
   "metadata": {
    "slideshow": {
     "slide_type": "fragment"
    }
   },
   "source": [
    "$\n",
    "A = \\begin{pmatrix}\n",
    "0  & 1 \\\\\n",
    "10 & 1 \\\\\n",
    "20 & 1 \\\\  \n",
    "30 & 1 \\\\  \n",
    "40 & 1 \\\\  \n",
    "50 & 1 \\\\  \n",
    "55 & 1 \\\\  \n",
    "60 & 1 \\\\  \n",
    "61 & 1 \\\\  \n",
    "62 & 1 \\\\  \n",
    "63 & 1 \\\\  \n",
    "64 & 1 \\\\  \n",
    "65 & 1 \n",
    "\\end{pmatrix}, \\qquad\n",
    "b = \\begin{pmatrix}\n",
    "35.6  \\\\\n",
    "94.7  \\\\\n",
    "141.1 \\\\  \n",
    "145.9 \\\\  \n",
    "142.7 \\\\  \n",
    "125.6 \\\\  \n",
    "115.3 \\\\  \n",
    "107.4 \\\\  \n",
    "109.3 \\\\  \n",
    "107.6 \\\\  \n",
    "106.6 \\\\  \n",
    "106.9 \\\\  \n",
    "105.9   \n",
    "\\end{pmatrix}\n",
    "$"
   ]
  },
  {
   "cell_type": "markdown",
   "metadata": {
    "slideshow": {
     "slide_type": "subslide"
    }
   },
   "source": [
    "#### Computation\n",
    "\n",
    "$A^TA\\hat{x} = A^Tb$"
   ]
  },
  {
   "cell_type": "code",
   "execution_count": 6,
   "metadata": {
    "slideshow": {
     "slide_type": "skip"
    }
   },
   "outputs": [],
   "source": [
    "A = np.ones(beer_data.shape);\n",
    "A[:,0] = beer_data[:,0];"
   ]
  },
  {
   "cell_type": "code",
   "execution_count": 7,
   "metadata": {
    "slideshow": {
     "slide_type": "skip"
    }
   },
   "outputs": [],
   "source": [
    "b = beer_data[:,1];"
   ]
  },
  {
   "cell_type": "code",
   "execution_count": 8,
   "metadata": {
    "slideshow": {
     "slide_type": "fragment"
    }
   },
   "outputs": [],
   "source": [
    "x = np.linalg.solve(A.transpose()@A,A.transpose()@b)"
   ]
  },
  {
   "cell_type": "code",
   "execution_count": 9,
   "metadata": {
    "slideshow": {
     "slide_type": "fragment"
    }
   },
   "outputs": [
    {
     "data": {
      "text/plain": [
       "array([ 0.36825939, 94.6930426 ])"
      ]
     },
     "execution_count": 9,
     "metadata": {},
     "output_type": "execute_result"
    }
   ],
   "source": [
    "x"
   ]
  },
  {
   "cell_type": "code",
   "execution_count": 10,
   "metadata": {
    "slideshow": {
     "slide_type": "fragment"
    }
   },
   "outputs": [
    {
     "data": {
      "image/png": "[encoded data removed]",
      "text/plain": [
       "<Figure size 432x288 with 1 Axes>"
      ]
     },
     "metadata": {
      "needs_background": "light"
     },
     "output_type": "display_data"
    }
   ],
   "source": [
    "t=np.linspace(0,65,50);\n",
    "plt.scatter(beer_data[:,0], beer_data[:,1]);\n",
    "plt.plot(t,x[0]*t+x[1]);"
   ]
  },
  {
   "cell_type": "markdown",
   "metadata": {
    "slideshow": {
     "slide_type": "subslide"
    }
   },
   "source": [
    "### Quadratic Model"
   ]
  },
  {
   "cell_type": "markdown",
   "metadata": {
    "slideshow": {
     "slide_type": "subslide"
    }
   },
   "source": [
    "#### Model\n",
    "\n",
    "$consumption(t) = \\alpha \\cdot t^2 + \\beta \\cdot t + \\gamma$"
   ]
  },
  {
   "cell_type": "markdown",
   "metadata": {
    "slideshow": {
     "slide_type": "fragment"
    }
   },
   "source": [
    "$\n",
    "A = \\begin{pmatrix}\n",
    "0^2 & 0  & 1 \\\\\n",
    "10^2 & 10 & 1 \\\\\n",
    "20^2 & 20 & 1 \\\\  \n",
    "30^2 & 30 & 1 \\\\  \n",
    "40^2 & 40 & 1 \\\\  \n",
    "50^2 & 50 & 1 \\\\  \n",
    "55^2 & 55 & 1 \\\\  \n",
    "60^2 & 60 & 1 \\\\  \n",
    "61^2 & 61 & 1 \\\\  \n",
    "62^2 & 62 & 1 \\\\  \n",
    "63^2 & 63 & 1 \\\\  \n",
    "64^2 & 64 & 1 \\\\  \n",
    "65^2 & 65 & 1 \n",
    "\\end{pmatrix}, \\qquad\n",
    "b = \\begin{pmatrix}\n",
    "35.6  \\\\\n",
    "94.7  \\\\\n",
    "141.1 \\\\  \n",
    "145.9 \\\\  \n",
    "142.7 \\\\  \n",
    "125.6 \\\\  \n",
    "115.3 \\\\  \n",
    "107.4 \\\\  \n",
    "109.3 \\\\  \n",
    "107.6 \\\\  \n",
    "106.6 \\\\  \n",
    "106.9 \\\\  \n",
    "105.9   \n",
    "\\end{pmatrix}\n",
    "$"
   ]
  },
  {
   "cell_type": "markdown",
   "metadata": {
    "slideshow": {
     "slide_type": "subslide"
    }
   },
   "source": [
    "#### Computation\n",
    "\n",
    "$A^TA\\hat{x} = A^Tb$"
   ]
  },
  {
   "cell_type": "code",
   "execution_count": 11,
   "metadata": {
    "slideshow": {
     "slide_type": "skip"
    }
   },
   "outputs": [],
   "source": [
    "A = np.ones((beer_data.shape[0],3));\n",
    "A[:,0] = beer_data[:,0]**2;\n",
    "A[:,1] = beer_data[:,0];"
   ]
  },
  {
   "cell_type": "code",
   "execution_count": 12,
   "metadata": {
    "slideshow": {
     "slide_type": "skip"
    }
   },
   "outputs": [],
   "source": [
    "b = beer_data[:,1];"
   ]
  },
  {
   "cell_type": "code",
   "execution_count": 13,
   "metadata": {
    "slideshow": {
     "slide_type": "fragment"
    }
   },
   "outputs": [],
   "source": [
    "x = np.linalg.solve(A.transpose()@A,A.transpose()@b)"
   ]
  },
  {
   "cell_type": "code",
   "execution_count": 14,
   "metadata": {
    "slideshow": {
     "slide_type": "fragment"
    }
   },
   "outputs": [
    {
     "data": {
      "text/plain": [
       "array([-0.07035222,  5.35613807, 45.22338758])"
      ]
     },
     "execution_count": 14,
     "metadata": {},
     "output_type": "execute_result"
    }
   ],
   "source": [
    "x"
   ]
  },
  {
   "cell_type": "code",
   "execution_count": 15,
   "metadata": {
    "slideshow": {
     "slide_type": "fragment"
    }
   },
   "outputs": [
    {
     "data": {
      "image/png": "[encoded data removed]",
      "text/plain": [
       "<Figure size 432x288 with 1 Axes>"
      ]
     },
     "metadata": {
      "needs_background": "light"
     },
     "output_type": "display_data"
    }
   ],
   "source": [
    "t=np.linspace(0,65,50);\n",
    "plt.scatter(beer_data[:,0], beer_data[:,1]);\n",
    "plt.plot(t,x[0]*t**2+x[1]*t+x[2]);"
   ]
  },
  {
   "cell_type": "markdown",
   "metadata": {
    "slideshow": {
     "slide_type": "slide"
    }
   },
   "source": [
    "## Per-Capita Coffee Consumption in Germany (in kg)"
   ]
  },
  {
   "cell_type": "markdown",
   "metadata": {
    "slideshow": {
     "slide_type": "subslide"
    }
   },
   "source": [
    "### Data\n",
    "\n",
    "| **Year** | **t** | **consumption (kg)** |\n",
    "|----------|-------|-----------------|\n",
    "| 1950 | 0  | 1.5 |\n",
    "| 1960 | 10 | 3.5 |\n",
    "| 1970 | 20 | 4.9 |  \n",
    "| 1980 | 30 | 6.7 |  \n",
    "| 1990 | 40 | 7.1 |  \n",
    "| 2000 | 50 | 6.7 |  \n",
    "| 2005 | 55 | 6.1 |  \n",
    "| 2010 | 60 | 6.4 |  \n",
    "| 2011 | 61 | 7.2 |  \n",
    "| 2012 | 62 | 7.3 |  \n",
    "| 2013 | 63 | 7.3 |  \n",
    "| 2014 | 64 | 7.1 |  \n",
    "| 2015 | 65 | 7.2 |  "
   ]
  },
  {
   "cell_type": "markdown",
   "metadata": {
    "slideshow": {
     "slide_type": "subslide"
    }
   },
   "source": [
    "### Scatter Plot"
   ]
  },
  {
   "cell_type": "code",
   "execution_count": 16,
   "metadata": {
    "slideshow": {
     "slide_type": "skip"
    }
   },
   "outputs": [],
   "source": [
    "import numpy as np\n",
    "import matplotlib as mpl\n",
    "import matplotlib.pyplot as plt"
   ]
  },
  {
   "cell_type": "code",
   "execution_count": 17,
   "metadata": {
    "slideshow": {
     "slide_type": "fragment"
    }
   },
   "outputs": [],
   "source": [
    "coffee_data = np.array([ (0,1.5),\n",
    "                      (10,3.5),\n",
    "                      (20,4.9),\n",
    "                      (30, 6.7),\n",
    "                      (40,7.1),\n",
    "                      (50,6.7),\n",
    "                      (55,6.1),\n",
    "                      (60,6.4),\n",
    "                      (61,7.2),\n",
    "                      (62,7.3),\n",
    "                      (63,7.3),\n",
    "                      (64,7.1),\n",
    "                      (65,7.2)])"
   ]
  },
  {
   "cell_type": "code",
   "execution_count": 18,
   "metadata": {
    "slideshow": {
     "slide_type": "fragment"
    }
   },
   "outputs": [
    {
     "data": {
      "image/png": "[encoded data removed]",
      "text/plain": [
       "<Figure size 432x288 with 1 Axes>"
      ]
     },
     "metadata": {
      "needs_background": "light"
     },
     "output_type": "display_data"
    }
   ],
   "source": [
    "plt.scatter(coffee_data[:,0], coffee_data[:,1]);"
   ]
  },
  {
   "cell_type": "markdown",
   "metadata": {
    "slideshow": {
     "slide_type": "subslide"
    }
   },
   "source": [
    "### Linear Model"
   ]
  },
  {
   "cell_type": "markdown",
   "metadata": {
    "slideshow": {
     "slide_type": "subslide"
    }
   },
   "source": [
    "#### Model\n",
    "\n",
    "$consumption(t) = \\alpha \\cdot t + \\beta$"
   ]
  },
  {
   "cell_type": "markdown",
   "metadata": {
    "slideshow": {
     "slide_type": "fragment"
    }
   },
   "source": [
    "$\n",
    "A = \\begin{pmatrix}\n",
    "0  & 1 \\\\\n",
    "10 & 1 \\\\\n",
    "20 & 1 \\\\  \n",
    "30 & 1 \\\\  \n",
    "40 & 1 \\\\  \n",
    "50 & 1 \\\\  \n",
    "55 & 1 \\\\  \n",
    "60 & 1 \\\\  \n",
    "61 & 1 \\\\  \n",
    "62 & 1 \\\\  \n",
    "63 & 1 \\\\  \n",
    "64 & 1 \\\\  \n",
    "65 & 1 \n",
    "\\end{pmatrix}, \\qquad\n",
    "b = \\begin{pmatrix}\n",
    "1.5 \\\\\n",
    "3.5 \\\\\n",
    "4.9 \\\\  \n",
    "6.7 \\\\  \n",
    "7.1 \\\\  \n",
    "6.7 \\\\  \n",
    "6.1 \\\\  \n",
    "6.4 \\\\  \n",
    "7.2 \\\\  \n",
    "7.3 \\\\  \n",
    "7.3 \\\\  \n",
    "7.1 \\\\  \n",
    "7.2   \n",
    "\\end{pmatrix}\n",
    "$"
   ]
  },
  {
   "cell_type": "markdown",
   "metadata": {
    "slideshow": {
     "slide_type": "subslide"
    }
   },
   "source": [
    "#### Computation\n",
    "\n",
    "$A^TA\\hat{x} = A^Tb$"
   ]
  },
  {
   "cell_type": "code",
   "execution_count": 19,
   "metadata": {
    "slideshow": {
     "slide_type": "skip"
    }
   },
   "outputs": [],
   "source": [
    "A = np.ones(coffee_data.shape);\n",
    "A[:,0] = coffee_data[:,0];"
   ]
  },
  {
   "cell_type": "code",
   "execution_count": 20,
   "metadata": {
    "slideshow": {
     "slide_type": "skip"
    }
   },
   "outputs": [],
   "source": [
    "b = coffee_data[:,1]"
   ]
  },
  {
   "cell_type": "code",
   "execution_count": 21,
   "metadata": {
    "slideshow": {
     "slide_type": "fragment"
    }
   },
   "outputs": [],
   "source": [
    "x = np.linalg.solve(A.transpose()@A,A.transpose()@b)"
   ]
  },
  {
   "cell_type": "code",
   "execution_count": 22,
   "metadata": {
    "slideshow": {
     "slide_type": "fragment"
    }
   },
   "outputs": [
    {
     "data": {
      "text/plain": [
       "array([0.06914293, 2.9920847 ])"
      ]
     },
     "execution_count": 22,
     "metadata": {},
     "output_type": "execute_result"
    }
   ],
   "source": [
    "x"
   ]
  },
  {
   "cell_type": "code",
   "execution_count": 23,
   "metadata": {
    "slideshow": {
     "slide_type": "fragment"
    }
   },
   "outputs": [
    {
     "data": {
      "image/png": "[encoded data removed]",
      "text/plain": [
       "<Figure size 432x288 with 1 Axes>"
      ]
     },
     "metadata": {
      "needs_background": "light"
     },
     "output_type": "display_data"
    }
   ],
   "source": [
    "t=np.linspace(0,65,50);\n",
    "plt.scatter(coffee_data[:,0], coffee_data[:,1]);\n",
    "plt.plot(t,x[0]*t+x[1]);"
   ]
  },
  {
   "cell_type": "markdown",
   "metadata": {
    "slideshow": {
     "slide_type": "subslide"
    }
   },
   "source": [
    "### Quadratic Model"
   ]
  },
  {
   "cell_type": "markdown",
   "metadata": {
    "slideshow": {
     "slide_type": "subslide"
    }
   },
   "source": [
    "#### Model\n",
    "\n",
    "$consumption(t) = \\alpha \\cdot t^2 + \\beta \\cdot t + \\gamma$"
   ]
  },
  {
   "cell_type": "markdown",
   "metadata": {
    "slideshow": {
     "slide_type": "fragment"
    }
   },
   "source": [
    "$\n",
    "A = \\begin{pmatrix}\n",
    "0^2 & 0  & 1 \\\\\n",
    "10^2 & 10 & 1 \\\\\n",
    "20^2 & 20 & 1 \\\\  \n",
    "30^2 & 30 & 1 \\\\  \n",
    "40^2 & 40 & 1 \\\\  \n",
    "50^2 & 50 & 1 \\\\  \n",
    "55^2 & 55 & 1 \\\\  \n",
    "60^2 & 60 & 1 \\\\  \n",
    "61^2 & 61 & 1 \\\\  \n",
    "62^2 & 62 & 1 \\\\  \n",
    "63^2 & 63 & 1 \\\\  \n",
    "64^2 & 64 & 1 \\\\  \n",
    "65^2 & 65 & 1 \n",
    "\\end{pmatrix}, \\qquad\n",
    "b = \\begin{pmatrix}\n",
    "1.5 \\\\\n",
    "3.5 \\\\\n",
    "4.9 \\\\  \n",
    "6.7 \\\\  \n",
    "7.1 \\\\  \n",
    "6.7 \\\\  \n",
    "6.1 \\\\  \n",
    "6.4 \\\\  \n",
    "7.2 \\\\  \n",
    "7.3 \\\\  \n",
    "7.3 \\\\  \n",
    "7.1 \\\\  \n",
    "7.2   \n",
    "\\end{pmatrix}\n",
    "$"
   ]
  },
  {
   "cell_type": "markdown",
   "metadata": {
    "slideshow": {
     "slide_type": "subslide"
    }
   },
   "source": [
    "#### Computation\n",
    "\n",
    "$A^TA\\hat{x} = A^Tb$"
   ]
  },
  {
   "cell_type": "code",
   "execution_count": 24,
   "metadata": {
    "slideshow": {
     "slide_type": "skip"
    }
   },
   "outputs": [],
   "source": [
    "A = np.ones((coffee_data.shape[0],3))\n",
    "A[:,0] = coffee_data[:,0]**2\n",
    "A[:,1] = coffee_data[:,0]\n"
   ]
  },
  {
   "cell_type": "code",
   "execution_count": 25,
   "metadata": {
    "slideshow": {
     "slide_type": "skip"
    }
   },
   "outputs": [],
   "source": [
    "b = coffee_data[:,1]"
   ]
  },
  {
   "cell_type": "code",
   "execution_count": 26,
   "metadata": {
    "slideshow": {
     "slide_type": "fragment"
    }
   },
   "outputs": [],
   "source": [
    "x = np.linalg.solve(A.transpose()@A,A.transpose()@b)"
   ]
  },
  {
   "cell_type": "code",
   "execution_count": 27,
   "metadata": {
    "slideshow": {
     "slide_type": "fragment"
    }
   },
   "outputs": [
    {
     "data": {
      "text/plain": [
       "array([-0.00192157,  0.2053795 ,  1.64089383])"
      ]
     },
     "execution_count": 27,
     "metadata": {},
     "output_type": "execute_result"
    }
   ],
   "source": [
    "x"
   ]
  },
  {
   "cell_type": "code",
   "execution_count": 28,
   "metadata": {
    "slideshow": {
     "slide_type": "fragment"
    }
   },
   "outputs": [
    {
     "data": {
      "image/png": "[encoded data removed]",
      "text/plain": [
       "<Figure size 432x288 with 1 Axes>"
      ]
     },
     "metadata": {
      "needs_background": "light"
     },
     "output_type": "display_data"
    }
   ],
   "source": [
    "t=np.linspace(0,65,50);\n",
    "plt.scatter(coffee_data[:,0], coffee_data[:,1]);\n",
    "plt.plot(t,x[0]*t**2+x[1]*t+x[2]);"
   ]
  },
  {
   "cell_type": "markdown",
   "metadata": {
    "slideshow": {
     "slide_type": "subslide"
    }
   },
   "source": [
    "### Logarithmic Model"
   ]
  },
  {
   "cell_type": "markdown",
   "metadata": {
    "slideshow": {
     "slide_type": "subslide"
    }
   },
   "source": [
    "#### Model\n",
    "\n",
    "$consumption(t) = \\alpha \\cdot \\ln(t+1) + \\beta$"
   ]
  },
  {
   "cell_type": "markdown",
   "metadata": {
    "slideshow": {
     "slide_type": "fragment"
    }
   },
   "source": [
    "$\n",
    "A = \\begin{pmatrix}\n",
    " \\ln(0+1) & 1 \\\\\n",
    "\\ln(10 + 1) & 1 \\\\\n",
    "\\ln(20 + 1) & 1 \\\\  \n",
    "\\ln(30 + 1) & 1 \\\\  \n",
    "\\ln(40 + 1) & 1 \\\\  \n",
    "\\ln(50 + 1) & 1 \\\\  \n",
    "\\ln(55 + 1) & 1 \\\\  \n",
    "\\ln(60 + 1) & 1 \\\\  \n",
    "\\ln(61 + 1) & 1 \\\\  \n",
    "\\ln(62 + 1) & 1 \\\\  \n",
    "\\ln(63 + 1) & 1 \\\\  \n",
    "\\ln(64 + 1) & 1 \\\\  \n",
    "\\ln(65 + 1) & 1 \n",
    "\\end{pmatrix}, \\qquad\n",
    "b = \\begin{pmatrix}\n",
    "1.5 \\\\\n",
    "3.5 \\\\\n",
    "4.9 \\\\  \n",
    "6.7 \\\\  \n",
    "7.1 \\\\  \n",
    "6.7 \\\\  \n",
    "6.1 \\\\  \n",
    "6.4 \\\\  \n",
    "7.2 \\\\  \n",
    "7.3 \\\\  \n",
    "7.3 \\\\  \n",
    "7.1 \\\\  \n",
    "7.2   \n",
    "\\end{pmatrix}\n",
    "$"
   ]
  },
  {
   "cell_type": "markdown",
   "metadata": {
    "slideshow": {
     "slide_type": "subslide"
    }
   },
   "source": [
    "#### Computation\n",
    "\n",
    "$A^TA\\hat{x} = A^Tb$"
   ]
  },
  {
   "cell_type": "code",
   "execution_count": 29,
   "metadata": {
    "slideshow": {
     "slide_type": "skip"
    }
   },
   "outputs": [],
   "source": [
    "A = np.ones((coffee_data.shape[0],2))\n",
    "A[:,0] = np.log(coffee_data[:,0] + 1)\n",
    "A[:,1] = coffee_data[:,0]\n"
   ]
  },
  {
   "cell_type": "code",
   "execution_count": 30,
   "metadata": {
    "slideshow": {
     "slide_type": "skip"
    }
   },
   "outputs": [],
   "source": [
    "b = coffee_data[:,1];"
   ]
  },
  {
   "cell_type": "code",
   "execution_count": 31,
   "metadata": {
    "slideshow": {
     "slide_type": "fragment"
    }
   },
   "outputs": [],
   "source": [
    "x = np.linalg.solve(A.transpose()@A,A.transpose()@b);"
   ]
  },
  {
   "cell_type": "code",
   "execution_count": 32,
   "metadata": {
    "slideshow": {
     "slide_type": "fragment"
    }
   },
   "outputs": [
    {
     "data": {
      "text/plain": [
       "array([ 1.71889051e+00, -8.15992071e-04])"
      ]
     },
     "execution_count": 32,
     "metadata": {},
     "output_type": "execute_result"
    }
   ],
   "source": [
    "x"
   ]
  },
  {
   "cell_type": "code",
   "execution_count": 33,
   "metadata": {
    "slideshow": {
     "slide_type": "fragment"
    }
   },
   "outputs": [
    {
     "data": {
      "image/png": "[encoded data removed]",
      "text/plain": [
       "<Figure size 432x288 with 1 Axes>"
      ]
     },
     "metadata": {
      "needs_background": "light"
     },
     "output_type": "display_data"
    }
   ],
   "source": [
    "t=np.linspace(0,65,50);\n",
    "plt.scatter(coffee_data[:,0], coffee_data[:,1]);\n",
    "plt.plot(t,x[0]*np.log(t+1) + x[1]);"
   ]
  }
 ],
 "metadata": {
  "kernelspec": {
   "display_name": "Python 3.8.6",
   "language": "python",
   "name": "3.8.6"
  },
  "language_info": {
   "codemirror_mode": {
    "name": "ipython",
    "version": 3
   },
   "file_extension": ".py",
   "mimetype": "text/x-python",
   "name": "python",
   "nbconvert_exporter": "python",
   "pygments_lexer": "ipython3",
   "version": "3.8.6"
  }
 },
 "nbformat": 4,
 "nbformat_minor": 4
}
